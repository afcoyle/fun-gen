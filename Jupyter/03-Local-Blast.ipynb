{
 "cells": [
  {
   "cell_type": "markdown",
   "metadata": {},
   "source": [
    "# BLAST"
   ]
  },
  {
   "cell_type": "markdown",
   "metadata": {},
   "source": [
    "## Download Stand-alone BLAST"
   ]
  },
  {
   "cell_type": "markdown",
   "metadata": {},
   "source": [
    "`ftp://ftp.ncbi.nlm.nih.gov/blast/executables/blast+/LATEST/`"
   ]
  },
  {
   "cell_type": "markdown",
   "metadata": {
    "ExecuteTime": {
     "end_time": "2018-09-21T18:07:32.471176Z",
     "start_time": "2018-09-21T18:07:32.458201Z"
    }
   },
   "source": [
    "You could add the programs to your system PATH, however I prefer to use absolute paths / variables"
   ]
  },
  {
   "cell_type": "code",
   "execution_count": 5,
   "metadata": {
    "ExecuteTime": {
     "end_time": "2018-09-21T18:08:50.166985Z",
     "start_time": "2018-09-21T18:08:50.159532Z"
    }
   },
   "outputs": [],
   "source": [
    "bldir = \"/Applications/bioinfo/ncbi-blast-2.7.1+/bin/\""
   ]
  },
  {
   "cell_type": "code",
   "execution_count": 7,
   "metadata": {
    "ExecuteTime": {
     "end_time": "2018-09-21T18:09:18.238766Z",
     "start_time": "2018-09-21T18:09:17.992511Z"
    }
   },
   "outputs": [
    {
     "name": "stdout",
     "output_type": "stream",
     "text": [
      "USAGE\r\n",
      "  blastx [-h] [-help] [-import_search_strategy filename]\r\n",
      "    [-export_search_strategy filename] [-task task_name] [-db database_name]\r\n",
      "    [-dbsize num_letters] [-gilist filename] [-seqidlist filename]\r\n",
      "    [-negative_gilist filename] [-negative_seqidlist filename]\r\n",
      "    [-entrez_query entrez_query] [-db_soft_mask filtering_algorithm]\r\n",
      "    [-db_hard_mask filtering_algorithm] [-subject subject_input_file]\r\n",
      "    [-subject_loc range] [-query input_file] [-out output_file]\r\n",
      "    [-evalue evalue] [-word_size int_value] [-gapopen open_penalty]\r\n",
      "    [-gapextend extend_penalty] [-qcov_hsp_perc float_value]\r\n",
      "    [-max_hsps int_value] [-xdrop_ungap float_value] [-xdrop_gap float_value]\r\n",
      "    [-xdrop_gap_final float_value] [-searchsp int_value]\r\n",
      "    [-sum_stats bool_value] [-max_intron_length length] [-seg SEG_options]\r\n",
      "    [-soft_masking soft_masking] [-matrix matrix_name]\r\n",
      "    [-threshold float_value] [-culling_limit int_value]\r\n",
      "    [-best_hit_overhang float_value] [-best_hit_score_edge float_value]\r\n",
      "    [-window_size int_value] [-ungapped] [-lcase_masking] [-query_loc range]\r\n",
      "    [-strand strand] [-parse_deflines] [-query_gencode int_value]\r\n",
      "    [-outfmt format] [-show_gis] [-num_descriptions int_value]\r\n",
      "    [-num_alignments int_value] [-line_length line_length] [-html]\r\n",
      "    [-max_target_seqs num_sequences] [-num_threads int_value] [-remote]\r\n",
      "    [-comp_based_stats compo] [-use_sw_tback] [-version]\r\n",
      "\r\n",
      "DESCRIPTION\r\n",
      "   Translated Query-Protein Subject BLAST 2.7.1+\r\n",
      "\r\n",
      "Use '-help' to print detailed descriptions of command line arguments\r\n"
     ]
    }
   ],
   "source": [
    "!{bldir}blastx -h"
   ]
  },
  {
   "cell_type": "markdown",
   "metadata": {},
   "source": [
    "## Create a Blast Database"
   ]
  },
  {
   "cell_type": "markdown",
   "metadata": {},
   "source": [
    "I would like to make a database of UniProt/Swiss-prot."
   ]
  },
  {
   "cell_type": "code",
   "execution_count": 13,
   "metadata": {
    "ExecuteTime": {
     "end_time": "2018-09-21T18:14:24.043202Z",
     "start_time": "2018-09-21T18:14:24.025274Z"
    }
   },
   "outputs": [
    {
     "data": {
      "text/plain": [
       "'/Users/sr320/Documents/GitHub/fun-gen/Jupyter'"
      ]
     },
     "execution_count": 13,
     "metadata": {},
     "output_type": "execute_result"
    }
   ],
   "source": [
    "pwd"
   ]
  },
  {
   "cell_type": "code",
   "execution_count": null,
   "metadata": {
    "ExecuteTime": {
     "start_time": "2018-09-21T18:14:43.682Z"
    }
   },
   "outputs": [
    {
     "name": "stdout",
     "output_type": "stream",
     "text": [
      "  % Total    % Received % Xferd  Average Speed   Time    Time     Time  Current\n",
      "                                 Dload  Upload   Total   Spent    Left  Speed\n",
      " 41 84.0M   41 34.5M    0     0   930k      0  0:01:32  0:00:38  0:00:54 1154k 0   869k      0  0:01:38  0:00:06  0:01:32 1051k1M    0     0   914k      0  0:01:34  0:00:17  0:01:17  930k"
     ]
    }
   ],
   "source": [
    "!curl \\\n",
    "ftp://ftp.uniprot.org/pub/databases/uniprot/current_release/knowledgebase/complete/uniprot_sprot.fasta.gz \\\n",
    "> ../blastdb/uniprot_sprot.fasta.gz   "
   ]
  },
  {
   "cell_type": "code",
   "execution_count": null,
   "metadata": {},
   "outputs": [],
   "source": [
    "!gunzip -k ../blastdb/uniprot_sprot.fasta.gz"
   ]
  },
  {
   "cell_type": "code",
   "execution_count": 66,
   "metadata": {},
   "outputs": [
    {
     "name": "stdout",
     "output_type": "stream",
     "text": [
      "\n",
      "\n",
      "Building a new DB, current time: 01/08/2014 11:34:36\n",
      "New DB name:   uniprot_sprot_r2013_12\n",
      "New DB title:  uniprot_sprot.fasta\n",
      "Sequence type: Protein\n",
      "Keep Linkouts: T\n",
      "Keep MBits: T\n",
      "Maximum file size: 1000000000B\n",
      "Adding sequences from FASTA; added 541954 sequences in 53.9535 seconds.\n"
     ]
    }
   ],
   "source": [
    "#note I am working in dir db, thus can just use file names. Most times you might use the complete path.\n",
    "!makeblastdb -in uniprot_sprot.fasta -dbtype prot -out uniprot_sprot_r2013_12 "
   ]
  },
  {
   "cell_type": "markdown",
   "metadata": {},
   "source": [
    "## Get a Query Sequence"
   ]
  },
  {
   "cell_type": "code",
   "execution_count": 79,
   "metadata": {},
   "outputs": [
    {
     "name": "stdout",
     "output_type": "stream",
     "text": [
      "/Volumes/Bay3/Software/ncbi-blast-2.2.29+/db\r\n"
     ]
    }
   ],
   "source": [
    "#creating new directory; \n",
    "!pwd"
   ]
  },
  {
   "cell_type": "code",
   "execution_count": 80,
   "metadata": {},
   "outputs": [
    {
     "name": "stdout",
     "output_type": "stream",
     "text": [
      "/Volumes/Bay3/Software/ncbi-blast-2.2.29+\n"
     ]
    }
   ],
   "source": [
    "cd .."
   ]
  },
  {
   "cell_type": "code",
   "execution_count": 83,
   "metadata": {},
   "outputs": [],
   "source": [
    "!mkdir query"
   ]
  },
  {
   "cell_type": "code",
   "execution_count": 85,
   "metadata": {},
   "outputs": [
    {
     "name": "stdout",
     "output_type": "stream",
     "text": [
      "/Volumes/Bay3/Software/ncbi-blast-2.2.29+/query\n"
     ]
    }
   ],
   "source": [
    "cd query/"
   ]
  },
  {
   "cell_type": "code",
   "execution_count": 86,
   "metadata": {},
   "outputs": [
    {
     "name": "stdout",
     "output_type": "stream",
     "text": [
      "--2014-01-08 11:40:14--  http://eagle.fish.washington.edu/cnidarian/Ab_4denovo_CLC6_a.fa\n",
      "Resolving eagle.fish.washington.edu... 128.95.149.81\n",
      "Connecting to eagle.fish.washington.edu|128.95.149.81|:80... connected.\n",
      "HTTP request sent, awaiting response... 200 OK\n",
      "Length: 2030182 (1.9M) [text/plain]\n",
      "Saving to: `Ab_4denovo_CLC6_a.fa'\n",
      "\n",
      "100%[======================================>] 2,030,182   --.-K/s   in 0.03s   \n",
      "\n",
      "2014-01-08 11:40:14 (68.2 MB/s) - `Ab_4denovo_CLC6_a.fa' saved [2030182/2030182]\n",
      "\n"
     ]
    }
   ],
   "source": [
    "#getting file from url to local location\n",
    "#also curl -O works\n",
    "!wget http://eagle.fish.washington.edu/cnidarian/Ab_4denovo_CLC6_a.fa"
   ]
  },
  {
   "cell_type": "code",
   "execution_count": 87,
   "metadata": {},
   "outputs": [
    {
     "name": "stdout",
     "output_type": "stream",
     "text": [
      ">solid0078_20110412_FRAG_BC_WHITE_WHITE_F3_QV_SE_trimmed_contig_1\r\n",
      "ACACCCCACCCCAACGCACCCTCACCCCCACCCCAACAATCCATGATTGAATACTTCATC\r\n",
      "TATCCAAGACAAACTCCTCCTACAATCCATGATAGAATTCCTCCAAAAATAATTTCACAC\r\n",
      "TGAAACTCCGGTATCCGAGTTATTTTGTTCCCAGTAAAATGGCATCAACAAAAGTAGGTC\r\n",
      "TGGATTAACGAACCAATGTTGCTGCGTAATATCCCATTGACATATCTTGTCGATTCCTAC\r\n",
      "CAGGATCCGGACTGACGAGATTTCACTGTACGTTTATGCAAGTCATTTCCATATATAAAA\r\n",
      "TTGGATCTTATTTGCACAGTTAAATGTCTCTATGCTTATTTATAAATCAATGCCCGTAAG\r\n",
      "CTCCTAATATTTCTCTTTTCGTCCGACGAGCAAACAGTGAGTTTACTGTGGCCTTCAGCA\r\n",
      "AAAGTATTGATGTTGTAAATCTCAGTTGTGATTGAACAATTTGCCTCACTAGAAGTAGCC\r\n",
      "TTC\r\n"
     ]
    }
   ],
   "source": [
    "#lets get a preview\n",
    "!head Ab_4denovo_CLC6_a.fa"
   ]
  },
  {
   "cell_type": "code",
   "execution_count": 88,
   "metadata": {},
   "outputs": [
    {
     "name": "stdout",
     "output_type": "stream",
     "text": [
      "   35092   35092 2030182 Ab_4denovo_CLC6_a.fa\r\n"
     ]
    }
   ],
   "source": [
    "#word count\n",
    "!wc Ab_4denovo_CLC6_a.fa"
   ]
  },
  {
   "cell_type": "code",
   "execution_count": 90,
   "metadata": {},
   "outputs": [
    {
     "name": "stdout",
     "output_type": "stream",
     "text": [
      "5490\r\n"
     ]
    }
   ],
   "source": [
    "#how many sequences? lets count \">\" as we know each contig has 1\n",
    "!grep -c \">\" Ab_4denovo_CLC6_a.fa"
   ]
  },
  {
   "cell_type": "markdown",
   "metadata": {},
   "source": [
    "## Run Blast"
   ]
  },
  {
   "cell_type": "code",
   "execution_count": null,
   "metadata": {},
   "outputs": [],
   "source": [
    "#will use full paths..\n",
    "!blastx \\\n",
    "-query /Volumes/Bay3/Software/ncbi-blast-2.2.29\\+/query/Ab_4denovo_CLC6_a.fa \\\n",
    "-db /Volumes/Bay3/Software/ncbi-blast-2.2.29\\+/db/uniprot_sprot_r2013_12 \\\n",
    "-out /Volumes/Bay3/Software/ncbi-blast-2.2.29\\+/out/Ab_4denovo_CLC6_a_uniprot_blastx.tab \\\n",
    "-evalue 1E-20 \\\n",
    "-max_target_seqs 1 \\\n",
    "-outfmt 6"
   ]
  },
  {
   "cell_type": "code",
   "execution_count": 94,
   "metadata": {},
   "outputs": [
    {
     "name": "stdout",
     "output_type": "stream",
     "text": [
      "solid0078_20110412_FRAG_BC_WHITE_WHITE_F3_QV_SE_trimmed_contig_3\tsp|O42248|GBLP_DANRE\t82.46\t171\t30\t0\t1\t513\t35\t205\t1e-101\t 301\r\n",
      "solid0078_20110412_FRAG_BC_WHITE_WHITE_F3_QV_SE_trimmed_contig_5\tsp|Q08013|SSRG_RAT\t75.38\t65\t16\t0\t3\t197\t121\t185\t1e-27\t 104\r\n",
      "solid0078_20110412_FRAG_BC_WHITE_WHITE_F3_QV_SE_trimmed_contig_6\tsp|P12234|MPCP_BOVIN\t76.62\t77\t18\t0\t2\t232\t286\t362\t2e-23\t98.6\r\n",
      "solid0078_20110412_FRAG_BC_WHITE_WHITE_F3_QV_SE_trimmed_contig_9\tsp|Q41629|ADT1_WHEAT\t82.26\t62\t11\t0\t3\t188\t170\t231\t3e-27\t 104\r\n",
      "solid0078_20110412_FRAG_BC_WHITE_WHITE_F3_QV_SE_trimmed_contig_13\tsp|Q32NG4|PDDC1_XENLA\t54.44\t90\t40\t1\t1\t270\t140\t228\t1e-27\t 106\r\n",
      "solid0078_20110412_FRAG_BC_WHITE_WHITE_F3_QV_SE_trimmed_contig_23\tsp|Q9GNE2|RL23_AEDAE\t97.22\t72\t2\t0\t67\t282\t14\t85\t1e-42\t 142\r\n",
      "solid0078_20110412_FRAG_BC_WHITE_WHITE_F3_QV_SE_trimmed_contig_31\tsp|Q3V1H3|HPHL1_MOUSE\t53.38\t133\t59\t1\t2\t391\t23\t155\t5e-42\t 153\r\n",
      "solid0078_20110412_FRAG_BC_WHITE_WHITE_F3_QV_SE_trimmed_contig_32\tsp|Q641Y2|NDUS2_RAT\t88.03\t117\t14\t0\t2\t352\t334\t450\t1e-70\t 224\r\n",
      "solid0078_20110412_FRAG_BC_WHITE_WHITE_F3_QV_SE_trimmed_contig_37\tsp|Q9D3D9|ATPD_MOUSE\t56.10\t123\t54\t0\t2\t370\t46\t168\t7e-42\t 144\r\n",
      "solid0078_20110412_FRAG_BC_WHITE_WHITE_F3_QV_SE_trimmed_contig_39\tsp|Q39613|CYPH_CATRO\t75.00\t120\t23\t1\t55\t393\t1\t120\t7e-49\t 160\r\n"
     ]
    }
   ],
   "source": [
    "!head /Volumes/Bay3/Software/ncbi-blast-2.2.29\\+/out/Ab_4denovo_CLC6_a_uniprot_blastx.tab"
   ]
  },
  {
   "cell_type": "code",
   "execution_count": 95,
   "metadata": {},
   "outputs": [
    {
     "name": "stdout",
     "output_type": "stream",
     "text": [
      "     664    7968   84910 /Volumes/Bay3/Software/ncbi-blast-2.2.29+/out/Ab_4denovo_CLC6_a_uniprot_blastx.tab\r\n"
     ]
    }
   ],
   "source": [
    "!wc /Volumes/Bay3/Software/ncbi-blast-2.2.29\\+/out/Ab_4denovo_CLC6_a_uniprot_blastx.tab"
   ]
  },
  {
   "cell_type": "code",
   "execution_count": null,
   "metadata": {},
   "outputs": [],
   "source": []
  }
 ],
 "metadata": {
  "kernelspec": {
   "display_name": "Python 3",
   "language": "python",
   "name": "python3"
  },
  "language_info": {
   "codemirror_mode": {
    "name": "ipython",
    "version": 3
   },
   "file_extension": ".py",
   "mimetype": "text/x-python",
   "name": "python",
   "nbconvert_exporter": "python",
   "pygments_lexer": "ipython3",
   "version": "3.6.3"
  }
 },
 "nbformat": 4,
 "nbformat_minor": 1
}
