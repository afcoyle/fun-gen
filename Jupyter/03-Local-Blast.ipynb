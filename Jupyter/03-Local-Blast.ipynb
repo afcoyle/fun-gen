{
 "cells": [
  {
   "cell_type": "markdown",
   "metadata": {},
   "source": [
    "# BLAST"
   ]
  },
  {
   "cell_type": "markdown",
   "metadata": {},
   "source": [
    "Here is an example of how one might take a multi sequence fasta file and using NCBI Blast, compare the sequences with the Swiss-Prot Database on their own computer."
   ]
  },
  {
   "cell_type": "markdown",
   "metadata": {},
   "source": [
    "## Download Stand-alone BLAST"
   ]
  },
  {
   "cell_type": "markdown",
   "metadata": {},
   "source": [
    "`ftp://ftp.ncbi.nlm.nih.gov/blast/executables/blast+/LATEST/`"
   ]
  },
  {
   "cell_type": "markdown",
   "metadata": {
    "ExecuteTime": {
     "end_time": "2018-09-21T18:07:32.471176Z",
     "start_time": "2018-09-21T18:07:32.458201Z"
    }
   },
   "source": [
    "You could add the programs to your system PATH, however I prefer to use absolute paths / variables. "
   ]
  },
  {
   "cell_type": "code",
   "execution_count": 5,
   "metadata": {
    "ExecuteTime": {
     "end_time": "2018-09-21T18:08:50.166985Z",
     "start_time": "2018-09-21T18:08:50.159532Z"
    }
   },
   "outputs": [],
   "source": [
    "bldir = \"/Applications/bioinfo/ncbi-blast-2.7.1+/bin/\""
   ]
  },
  {
   "cell_type": "code",
   "execution_count": 7,
   "metadata": {
    "ExecuteTime": {
     "end_time": "2018-09-21T18:09:18.238766Z",
     "start_time": "2018-09-21T18:09:17.992511Z"
    }
   },
   "outputs": [
    {
     "name": "stdout",
     "output_type": "stream",
     "text": [
      "USAGE\r\n",
      "  blastx [-h] [-help] [-import_search_strategy filename]\r\n",
      "    [-export_search_strategy filename] [-task task_name] [-db database_name]\r\n",
      "    [-dbsize num_letters] [-gilist filename] [-seqidlist filename]\r\n",
      "    [-negative_gilist filename] [-negative_seqidlist filename]\r\n",
      "    [-entrez_query entrez_query] [-db_soft_mask filtering_algorithm]\r\n",
      "    [-db_hard_mask filtering_algorithm] [-subject subject_input_file]\r\n",
      "    [-subject_loc range] [-query input_file] [-out output_file]\r\n",
      "    [-evalue evalue] [-word_size int_value] [-gapopen open_penalty]\r\n",
      "    [-gapextend extend_penalty] [-qcov_hsp_perc float_value]\r\n",
      "    [-max_hsps int_value] [-xdrop_ungap float_value] [-xdrop_gap float_value]\r\n",
      "    [-xdrop_gap_final float_value] [-searchsp int_value]\r\n",
      "    [-sum_stats bool_value] [-max_intron_length length] [-seg SEG_options]\r\n",
      "    [-soft_masking soft_masking] [-matrix matrix_name]\r\n",
      "    [-threshold float_value] [-culling_limit int_value]\r\n",
      "    [-best_hit_overhang float_value] [-best_hit_score_edge float_value]\r\n",
      "    [-window_size int_value] [-ungapped] [-lcase_masking] [-query_loc range]\r\n",
      "    [-strand strand] [-parse_deflines] [-query_gencode int_value]\r\n",
      "    [-outfmt format] [-show_gis] [-num_descriptions int_value]\r\n",
      "    [-num_alignments int_value] [-line_length line_length] [-html]\r\n",
      "    [-max_target_seqs num_sequences] [-num_threads int_value] [-remote]\r\n",
      "    [-comp_based_stats compo] [-use_sw_tback] [-version]\r\n",
      "\r\n",
      "DESCRIPTION\r\n",
      "   Translated Query-Protein Subject BLAST 2.7.1+\r\n",
      "\r\n",
      "Use '-help' to print detailed descriptions of command line arguments\r\n"
     ]
    }
   ],
   "source": [
    "#showing how file path variable is working\n",
    "!{bldir}blastx -h"
   ]
  },
  {
   "cell_type": "markdown",
   "metadata": {},
   "source": [
    "## Create a Blast Database"
   ]
  },
  {
   "cell_type": "markdown",
   "metadata": {},
   "source": [
    "I would like to make a database of UniProt/Swiss-prot."
   ]
  },
  {
   "cell_type": "code",
   "execution_count": 14,
   "metadata": {
    "ExecuteTime": {
     "end_time": "2018-09-21T18:16:24.011435Z",
     "start_time": "2018-09-21T18:14:43.689016Z"
    }
   },
   "outputs": [
    {
     "name": "stdout",
     "output_type": "stream",
     "text": [
      "  % Total    % Received % Xferd  Average Speed   Time    Time     Time  Current\n",
      "                                 Dload  Upload   Total   Spent    Left  Speed\n",
      "100 84.0M  100 84.0M    0     0   860k      0  0:01:40  0:01:40 --:--:--  536k 0   869k      0  0:01:38  0:00:06  0:01:32 1051k1M    0     0   914k      0  0:01:34  0:00:17  0:01:17  930k6 84.0M   66 55.9M    0     0   939k      0  0:01:31  0:01:01  0:00:30  927k     0   941k      0  0:01:31  0:01:04  0:00:27  939k\n"
     ]
    }
   ],
   "source": [
    "!curl \\\n",
    "ftp://ftp.uniprot.org/pub/databases/uniprot/current_release/knowledgebase/complete/uniprot_sprot.fasta.gz \\\n",
    "> ../blastdb/uniprot_sprot.fasta.gz   "
   ]
  },
  {
   "cell_type": "code",
   "execution_count": 15,
   "metadata": {
    "ExecuteTime": {
     "end_time": "2018-09-21T18:17:47.753170Z",
     "start_time": "2018-09-21T18:17:46.351204Z"
    }
   },
   "outputs": [],
   "source": [
    "!gunzip -k ../blastdb/uniprot_sprot.fasta.gz"
   ]
  },
  {
   "cell_type": "code",
   "execution_count": 17,
   "metadata": {
    "ExecuteTime": {
     "end_time": "2018-09-21T18:19:19.579020Z",
     "start_time": "2018-09-21T18:19:02.948389Z"
    }
   },
   "outputs": [
    {
     "name": "stdout",
     "output_type": "stream",
     "text": [
      "\n",
      "\n",
      "Building a new DB, current time: 09/21/2018 11:19:03\n",
      "New DB name:   /Users/sr320/Documents/GitHub/fun-gen/blastdb/uniprot_sprot_r2018_08\n",
      "New DB title:  ../blastdb/uniprot_sprot.fasta\n",
      "Sequence type: Protein\n",
      "Keep MBits: T\n",
      "Maximum file size: 1000000000B\n",
      "Adding sequences from FASTA; added 558125 sequences in 16.3798 seconds.\n"
     ]
    }
   ],
   "source": [
    "#appeninding version number to database\n",
    "!{bldir}makeblastdb \\\n",
    "-in ../blastdb/uniprot_sprot.fasta \\\n",
    "-dbtype prot \\\n",
    "-out ../blastdb/uniprot_sprot_r2018_08 "
   ]
  },
  {
   "cell_type": "markdown",
   "metadata": {},
   "source": [
    "## Get a Query Sequence"
   ]
  },
  {
   "cell_type": "code",
   "execution_count": 19,
   "metadata": {
    "ExecuteTime": {
     "end_time": "2018-09-21T18:19:55.388501Z",
     "start_time": "2018-09-21T18:19:55.205176Z"
    }
   },
   "outputs": [
    {
     "name": "stdout",
     "output_type": "stream",
     "text": [
      "  % Total    % Received % Xferd  Average Speed   Time    Time     Time  Current\n",
      "                                 Dload  Upload   Total   Spent    Left  Speed\n",
      "100 1982k  100 1982k    0     0  1982k      0  0:00:01 --:--:--  0:00:01 49.6M\n"
     ]
    }
   ],
   "source": [
    "#getting file from url to local location\n",
    "!curl http://eagle.fish.washington.edu/cnidarian/Ab_4denovo_CLC6_a.fa \\\n",
    "> ../data/Ab_4denovo_CLC6_a.fa"
   ]
  },
  {
   "cell_type": "code",
   "execution_count": 20,
   "metadata": {
    "ExecuteTime": {
     "end_time": "2018-09-21T18:20:04.228696Z",
     "start_time": "2018-09-21T18:20:04.091032Z"
    }
   },
   "outputs": [
    {
     "name": "stdout",
     "output_type": "stream",
     "text": [
      ">solid0078_20110412_FRAG_BC_WHITE_WHITE_F3_QV_SE_trimmed_contig_1\r\n",
      "ACACCCCACCCCAACGCACCCTCACCCCCACCCCAACAATCCATGATTGAATACTTCATC\r\n",
      "TATCCAAGACAAACTCCTCCTACAATCCATGATAGAATTCCTCCAAAAATAATTTCACAC\r\n",
      "TGAAACTCCGGTATCCGAGTTATTTTGTTCCCAGTAAAATGGCATCAACAAAAGTAGGTC\r\n",
      "TGGATTAACGAACCAATGTTGCTGCGTAATATCCCATTGACATATCTTGTCGATTCCTAC\r\n",
      "CAGGATCCGGACTGACGAGATTTCACTGTACGTTTATGCAAGTCATTTCCATATATAAAA\r\n",
      "TTGGATCTTATTTGCACAGTTAAATGTCTCTATGCTTATTTATAAATCAATGCCCGTAAG\r\n",
      "CTCCTAATATTTCTCTTTTCGTCCGACGAGCAAACAGTGAGTTTACTGTGGCCTTCAGCA\r\n",
      "AAAGTATTGATGTTGTAAATCTCAGTTGTGATTGAACAATTTGCCTCACTAGAAGTAGCC\r\n",
      "TTC\r\n"
     ]
    }
   ],
   "source": [
    "#lets get a preview\n",
    "!head ../data/Ab_4denovo_CLC6_a.fa"
   ]
  },
  {
   "cell_type": "code",
   "execution_count": 90,
   "metadata": {},
   "outputs": [
    {
     "name": "stdout",
     "output_type": "stream",
     "text": [
      "5490\r\n"
     ]
    }
   ],
   "source": [
    "#how many sequences? lets count \">\" as we know each contig has 1\n",
    "!grep -c \">\" Ab_4denovo_CLC6_a.fa"
   ]
  },
  {
   "cell_type": "markdown",
   "metadata": {},
   "source": [
    "## Run Blast"
   ]
  },
  {
   "cell_type": "code",
   "execution_count": 21,
   "metadata": {
    "ExecuteTime": {
     "end_time": "2018-09-21T18:57:26.473511Z",
     "start_time": "2018-09-21T18:21:35.941219Z"
    }
   },
   "outputs": [],
   "source": [
    "\n",
    "!{bldir}blastx \\\n",
    "-query ../data/Ab_4denovo_CLC6_a.fa \\\n",
    "-db ../blastdb/uniprot_sprot_r2018_08  \\\n",
    "-out ../analyses/Ab_4-uniprot_blastx.tab \\\n",
    "-evalue 1E-20 \\\n",
    "-num_threads 4 \\\n",
    "-max_target_seqs 1 \\\n",
    "-outfmt 6"
   ]
  },
  {
   "cell_type": "code",
   "execution_count": 23,
   "metadata": {
    "ExecuteTime": {
     "end_time": "2018-09-21T18:57:26.781375Z",
     "start_time": "2018-09-21T18:57:26.648503Z"
    }
   },
   "outputs": [
    {
     "name": "stdout",
     "output_type": "stream",
     "text": [
      "solid0078_20110412_FRAG_BC_WHITE_WHITE_F3_QV_SE_trimmed_contig_3\tsp|O42248|GBLP_DANRE\t82.456\t171\t30\t0\t1\t513\t35\t205\t2.73e-103\t301\r\n",
      "solid0078_20110412_FRAG_BC_WHITE_WHITE_F3_QV_SE_trimmed_contig_5\tsp|Q08013|SSRG_RAT\t75.385\t65\t16\t0\t3\t197\t121\t185\t1.36e-28\t104\r\n",
      "solid0078_20110412_FRAG_BC_WHITE_WHITE_F3_QV_SE_trimmed_contig_6\tsp|P12234|MPCP_BOVIN\t76.623\t77\t18\t0\t2\t232\t286\t362\t7.09e-24\t98.6\r\n",
      "solid0078_20110412_FRAG_BC_WHITE_WHITE_F3_QV_SE_trimmed_contig_9\tsp|Q41629|ADT1_WHEAT\t82.258\t62\t11\t0\t3\t188\t170\t231\t5.90e-28\t104\r\n",
      "solid0078_20110412_FRAG_BC_WHITE_WHITE_F3_QV_SE_trimmed_contig_13\tsp|Q32NG4|GALD1_XENLA\t54.444\t90\t40\t1\t1\t270\t140\t228\t1.47e-28\t106\r\n",
      "solid0078_20110412_FRAG_BC_WHITE_WHITE_F3_QV_SE_trimmed_contig_23\tsp|Q9GNE2|RL23_AEDAE\t97.222\t72\t2\t0\t67\t282\t14\t85\t6.62e-44\t142\r\n",
      "solid0078_20110412_FRAG_BC_WHITE_WHITE_F3_QV_SE_trimmed_contig_31\tsp|B3EWZ9|HEPHL_ACRMI\t56.589\t129\t53\t1\t2\t379\t26\t154\t1.75e-44\t157\r\n",
      "solid0078_20110412_FRAG_BC_WHITE_WHITE_F3_QV_SE_trimmed_contig_31\tsp|B3EWZ9|HEPHL_ACRMI\t44.715\t123\t64\t1\t8\t364\t380\t502\t8.93e-30\t115\r\n",
      "solid0078_20110412_FRAG_BC_WHITE_WHITE_F3_QV_SE_trimmed_contig_31\tsp|B3EWZ9|HEPHL_ACRMI\t44.531\t128\t65\t3\t11\t376\t732\t859\t1.16e-27\t109\r\n",
      "solid0078_20110412_FRAG_BC_WHITE_WHITE_F3_QV_SE_trimmed_contig_32\tsp|Q641Y2|NDUS2_RAT\t88.034\t117\t14\t0\t2\t352\t334\t450\t6.24e-72\t224\r\n"
     ]
    }
   ],
   "source": [
    "!head ../analyses/Ab_4-uniprot_blastx.tab"
   ]
  },
  {
   "cell_type": "code",
   "execution_count": 22,
   "metadata": {
    "ExecuteTime": {
     "end_time": "2018-09-21T18:57:26.640754Z",
     "start_time": "2018-09-21T18:57:26.486274Z"
    }
   },
   "outputs": [
    {
     "name": "stdout",
     "output_type": "stream",
     "text": [
      "     754 ../analyses/Ab_4-uniprot_blastx.tab\r\n"
     ]
    }
   ],
   "source": [
    "#how many blast hits?\n",
    "!wc -l ../analyses/Ab_4-uniprot_blastx.tab"
   ]
  },
  {
   "cell_type": "code",
   "execution_count": null,
   "metadata": {},
   "outputs": [],
   "source": []
  }
 ],
 "metadata": {
  "kernelspec": {
   "display_name": "Python 3",
   "language": "python",
   "name": "python3"
  },
  "language_info": {
   "codemirror_mode": {
    "name": "ipython",
    "version": 3
   },
   "file_extension": ".py",
   "mimetype": "text/x-python",
   "name": "python",
   "nbconvert_exporter": "python",
   "pygments_lexer": "ipython3",
   "version": "3.6.3"
  }
 },
 "nbformat": 4,
 "nbformat_minor": 1
}
